{
 "cells": [
  {
   "cell_type": "markdown",
   "metadata": {
    "id": "lzx3zNg-2a18"
   },
   "source": [
    "Import delle librerie."
   ]
  },
  {
   "cell_type": "code",
   "execution_count": 1,
   "metadata": {
    "colab": {
     "base_uri": "https://localhost:8080/"
    },
    "executionInfo": {
     "elapsed": 28388,
     "status": "ok",
     "timestamp": 1643191678418,
     "user": {
      "displayName": "Christiancarmine ESPOSITO",
      "photoUrl": "https://lh3.googleusercontent.com/a-/AOh14GgRnIU0y8XEW2JKncYto1ghjgCtDrNSir0BcaBXqOWCG_1C7Wpqe9NC_tS9bTp70VWK0asCDj3sio0gUwri7M5T0dCM7460h5gqRbLsIaNz7MSGlxaxXXcN1XAv9AGJ3UnpOeX5DUiXmmbPmqOu96JTQOPh3tCzK5bK8Z4H16hqAL4aJAkSPGMnMRu4I5HvCr-msXdMZm3mahHyadlWfC7IKoe3Is2WIvTpxvY08eIzInEE4CPSQ_-xIOVbKG0Rquyhpn8xxGLkHg5LV7NTIIsG9t5zytHt-NeGQZlWEut1imDkpkbf0H2gYs5z5_vAQ5sfz_qubbCGZ6z4ZvMka2sxbswhb2aLaI_Gd2GSe5LsDxZ8AzwUttkUS98NH0w5iM6baiZ83Mv_kGczp_zezmPNk_q7N7hug7KXn2d3j1_E9dPHFbf2mVOsOTWTriGXnHrHS8BDhziGIwwfHsqgIoba8wPUKYWYiziQq-h0k0l5C1tp2XJeiq2tGtjfr8kSleEhRaW88_Lw9mynJeu9wVLzIhzQju2BABk359Vsekv6MUdqKpX0shUqu_qFMb3WA5PJvmAR5sxB_iomFY7vrXpZT-Vu2LGnXft2uS8JnBb4b1frDfVK3v4wbRyk9AjEKVQl6ZaRg-_iV---2OIqSA6EygTlYu5V7k5hJhWS_gQl_kYzne43n2Q-ML8tMvVLve2B96qPkPBBnPHWzCpBBKC39c5YCvK65OIpbfGeuu152B1QAxv5d3ofR-TyKdjarbhPCQ=s64",
      "userId": "10739702773689565419"
     },
     "user_tz": -60
    },
    "id": "9Kzhx4Tq16u7",
    "outputId": "51b612bb-875f-49ec-ce7f-d31fe358b809"
   },
   "outputs": [
    {
     "name": "stdout",
     "output_type": "stream",
     "text": [
      "Mounted at /content/drive\n"
     ]
    }
   ],
   "source": [
    "from google.colab import drive\n",
    "drive.mount('/content/drive')"
   ]
  },
  {
   "cell_type": "code",
   "execution_count": 2,
   "metadata": {
    "executionInfo": {
     "elapsed": 6011,
     "status": "ok",
     "timestamp": 1643191702303,
     "user": {
      "displayName": "Christiancarmine ESPOSITO",
      "photoUrl": "https://lh3.googleusercontent.com/a-/AOh14GgRnIU0y8XEW2JKncYto1ghjgCtDrNSir0BcaBXqOWCG_1C7Wpqe9NC_tS9bTp70VWK0asCDj3sio0gUwri7M5T0dCM7460h5gqRbLsIaNz7MSGlxaxXXcN1XAv9AGJ3UnpOeX5DUiXmmbPmqOu96JTQOPh3tCzK5bK8Z4H16hqAL4aJAkSPGMnMRu4I5HvCr-msXdMZm3mahHyadlWfC7IKoe3Is2WIvTpxvY08eIzInEE4CPSQ_-xIOVbKG0Rquyhpn8xxGLkHg5LV7NTIIsG9t5zytHt-NeGQZlWEut1imDkpkbf0H2gYs5z5_vAQ5sfz_qubbCGZ6z4ZvMka2sxbswhb2aLaI_Gd2GSe5LsDxZ8AzwUttkUS98NH0w5iM6baiZ83Mv_kGczp_zezmPNk_q7N7hug7KXn2d3j1_E9dPHFbf2mVOsOTWTriGXnHrHS8BDhziGIwwfHsqgIoba8wPUKYWYiziQq-h0k0l5C1tp2XJeiq2tGtjfr8kSleEhRaW88_Lw9mynJeu9wVLzIhzQju2BABk359Vsekv6MUdqKpX0shUqu_qFMb3WA5PJvmAR5sxB_iomFY7vrXpZT-Vu2LGnXft2uS8JnBb4b1frDfVK3v4wbRyk9AjEKVQl6ZaRg-_iV---2OIqSA6EygTlYu5V7k5hJhWS_gQl_kYzne43n2Q-ML8tMvVLve2B96qPkPBBnPHWzCpBBKC39c5YCvK65OIpbfGeuu152B1QAxv5d3ofR-TyKdjarbhPCQ=s64",
      "userId": "10739702773689565419"
     },
     "user_tz": -60
    },
    "id": "YHUHQtRfsz7R"
   },
   "outputs": [],
   "source": [
    "import os\n",
    "import random\n",
    "from tqdm import tqdm\n",
    "import numpy as np\n",
    "import torch, torchvision\n",
    "import torch.nn as nn\n",
    "import torch.nn.functional as F\n",
    "import torch.optim as optim\n",
    "from torchvision import datasets, transforms\n",
    "from torch.utils.data.dataset import Dataset   \n",
    "torch.backends.cudnn.benchmark=True"
   ]
  },
  {
   "cell_type": "markdown",
   "metadata": {
    "id": "s7KudNoX2h52"
   },
   "source": [
    "Valorizzazione dei parametri della soluzione di FedLearning"
   ]
  },
  {
   "cell_type": "code",
   "execution_count": 3,
   "metadata": {
    "executionInfo": {
     "elapsed": 268,
     "status": "ok",
     "timestamp": 1643191710871,
     "user": {
      "displayName": "Christiancarmine ESPOSITO",
      "photoUrl": "https://lh3.googleusercontent.com/a-/AOh14GgRnIU0y8XEW2JKncYto1ghjgCtDrNSir0BcaBXqOWCG_1C7Wpqe9NC_tS9bTp70VWK0asCDj3sio0gUwri7M5T0dCM7460h5gqRbLsIaNz7MSGlxaxXXcN1XAv9AGJ3UnpOeX5DUiXmmbPmqOu96JTQOPh3tCzK5bK8Z4H16hqAL4aJAkSPGMnMRu4I5HvCr-msXdMZm3mahHyadlWfC7IKoe3Is2WIvTpxvY08eIzInEE4CPSQ_-xIOVbKG0Rquyhpn8xxGLkHg5LV7NTIIsG9t5zytHt-NeGQZlWEut1imDkpkbf0H2gYs5z5_vAQ5sfz_qubbCGZ6z4ZvMka2sxbswhb2aLaI_Gd2GSe5LsDxZ8AzwUttkUS98NH0w5iM6baiZ83Mv_kGczp_zezmPNk_q7N7hug7KXn2d3j1_E9dPHFbf2mVOsOTWTriGXnHrHS8BDhziGIwwfHsqgIoba8wPUKYWYiziQq-h0k0l5C1tp2XJeiq2tGtjfr8kSleEhRaW88_Lw9mynJeu9wVLzIhzQju2BABk359Vsekv6MUdqKpX0shUqu_qFMb3WA5PJvmAR5sxB_iomFY7vrXpZT-Vu2LGnXft2uS8JnBb4b1frDfVK3v4wbRyk9AjEKVQl6ZaRg-_iV---2OIqSA6EygTlYu5V7k5hJhWS_gQl_kYzne43n2Q-ML8tMvVLve2B96qPkPBBnPHWzCpBBKC39c5YCvK65OIpbfGeuu152B1QAxv5d3ofR-TyKdjarbhPCQ=s64",
      "userId": "10739702773689565419"
     },
     "user_tz": -60
    },
    "id": "8PjPvJql2wu4"
   },
   "outputs": [],
   "source": [
    "num_clients = 20\n",
    "num_selected = 6\n",
    "num_rounds = 150\n",
    "epochs = 5\n",
    "batch_size = 32"
   ]
  },
  {
   "cell_type": "markdown",
   "metadata": {
    "id": "DUDaIWy423ST"
   },
   "source": [
    " Caricamento e suddivisione del dataset CIFAR 10 tra i client. Il set di dati CIFAR10 consiste di 60.000 immagini a colori di 32x32 pixel in 10 classi. Ci sono 50.000 immagini di allenamento e 10.000 immagini di prova. Nel batch di formazione, ci sono 5.000 immagini per ogni classe, per un totale di 50.000. In PyTorch, CIFAR 10 è disponibile per l'uso con l'aiuto del modulo torchvision."
   ]
  },
  {
   "cell_type": "code",
   "execution_count": 4,
   "metadata": {
    "colab": {
     "base_uri": "https://localhost:8080/",
     "height": 84,
     "referenced_widgets": [
      "37df8ed8ec0a4251935d45176d17df28",
      "5f8cab1a964842088e8c669cb8147206",
      "feb81cf91eb6437c827a355d8080a8a2",
      "8a438c1a934c4fe684a36d02d0ffbc6b",
      "7d539322fe7c409c8e1ead5ac7cd3288",
      "80d54d02e04047cc88d3baa27f76271e",
      "ad45f3fb43444bd8834c2d732121f8d2",
      "7c75b94980b74256a9be4de830ab0e0d",
      "f1095c1644f248af899e1699f0eb81a7",
      "0fc20a4b4e0445a89e58007788c39443",
      "b9334522544c49268f9ed676ee8adbda"
     ]
    },
    "executionInfo": {
     "elapsed": 6986,
     "status": "ok",
     "timestamp": 1643191892605,
     "user": {
      "displayName": "Christiancarmine ESPOSITO",
      "photoUrl": "https://lh3.googleusercontent.com/a-/AOh14GgRnIU0y8XEW2JKncYto1ghjgCtDrNSir0BcaBXqOWCG_1C7Wpqe9NC_tS9bTp70VWK0asCDj3sio0gUwri7M5T0dCM7460h5gqRbLsIaNz7MSGlxaxXXcN1XAv9AGJ3UnpOeX5DUiXmmbPmqOu96JTQOPh3tCzK5bK8Z4H16hqAL4aJAkSPGMnMRu4I5HvCr-msXdMZm3mahHyadlWfC7IKoe3Is2WIvTpxvY08eIzInEE4CPSQ_-xIOVbKG0Rquyhpn8xxGLkHg5LV7NTIIsG9t5zytHt-NeGQZlWEut1imDkpkbf0H2gYs5z5_vAQ5sfz_qubbCGZ6z4ZvMka2sxbswhb2aLaI_Gd2GSe5LsDxZ8AzwUttkUS98NH0w5iM6baiZ83Mv_kGczp_zezmPNk_q7N7hug7KXn2d3j1_E9dPHFbf2mVOsOTWTriGXnHrHS8BDhziGIwwfHsqgIoba8wPUKYWYiziQq-h0k0l5C1tp2XJeiq2tGtjfr8kSleEhRaW88_Lw9mynJeu9wVLzIhzQju2BABk359Vsekv6MUdqKpX0shUqu_qFMb3WA5PJvmAR5sxB_iomFY7vrXpZT-Vu2LGnXft2uS8JnBb4b1frDfVK3v4wbRyk9AjEKVQl6ZaRg-_iV---2OIqSA6EygTlYu5V7k5hJhWS_gQl_kYzne43n2Q-ML8tMvVLve2B96qPkPBBnPHWzCpBBKC39c5YCvK65OIpbfGeuu152B1QAxv5d3ofR-TyKdjarbhPCQ=s64",
      "userId": "10739702773689565419"
     },
     "user_tz": -60
    },
    "id": "YyrlD_Ba3SAz",
    "outputId": "efa7c83e-df64-4e2e-c3eb-14ddfa3d014f"
   },
   "outputs": [
    {
     "name": "stdout",
     "output_type": "stream",
     "text": [
      "Downloading https://www.cs.toronto.edu/~kriz/cifar-10-python.tar.gz to ./data/cifar-10-python.tar.gz\n"
     ]
    },
    {
     "data": {
      "application/vnd.jupyter.widget-view+json": {
       "model_id": "37df8ed8ec0a4251935d45176d17df28",
       "version_major": 2,
       "version_minor": 0
      },
      "text/plain": [
       "  0%|          | 0/170498071 [00:00<?, ?it/s]"
      ]
     },
     "metadata": {},
     "output_type": "display_data"
    },
    {
     "name": "stdout",
     "output_type": "stream",
     "text": [
      "Extracting ./data/cifar-10-python.tar.gz to ./data\n"
     ]
    }
   ],
   "source": [
    "# Image augmentation\n",
    "transform_train = transforms.Compose([\n",
    "    transforms.RandomCrop(32, padding=4),\n",
    "    transforms.RandomHorizontalFlip(),\n",
    "    transforms.ToTensor(),\n",
    "    transforms.Normalize((0.4914, 0.4822, 0.4465), (0.2023, 0.1994, 0.2010)),\n",
    "])\n",
    "\n",
    "# Loading CIFAR10 using torchvision.datasets\n",
    "traindata = datasets.CIFAR10('./data', train=True, download=True,\n",
    "                       transform= transform_train)\n",
    "\n",
    "# Dividing the training data into num_clients, with each client having equal number of images\n",
    "traindata_split = torch.utils.data.random_split(traindata, [int(traindata.data.shape[0] / num_clients) for _ in range(num_clients)])\n",
    "\n",
    "# Creating a pytorch loader for a Deep Learning model\n",
    "train_loader = [torch.utils.data.DataLoader(x, batch_size=batch_size, shuffle=True) for x in traindata_split]\n",
    "\n",
    "# Normalizing the test images\n",
    "transform_test = transforms.Compose([\n",
    "    transforms.ToTensor(),\n",
    "    transforms.Normalize((0.4914, 0.4822, 0.4465), (0.2023, 0.1994, 0.2010)),\n",
    "])\n",
    "\n",
    "# Loading the test iamges and thus converting them into a test_loader\n",
    "test_loader = torch.utils.data.DataLoader(\n",
    "        datasets.CIFAR10('./data', train=False, transform=transforms.Compose([transforms.ToTensor(),transforms.Normalize((0.4914, 0.4822, 0.4465), (0.2023, 0.1994, 0.2010))])\n",
    "        ), batch_size=batch_size, shuffle=True)"
   ]
  },
  {
   "cell_type": "markdown",
   "metadata": {
    "id": "e_jU692N4hFm"
   },
   "source": [
    "Costruzione della rete neurale, usando VGG19 (16 convolution layers, 3 Fully Connected layers, 5 MaxPool layers, and 1 SoftMax layer) \n"
   ]
  },
  {
   "cell_type": "code",
   "execution_count": 5,
   "metadata": {
    "executionInfo": {
     "elapsed": 255,
     "status": "ok",
     "timestamp": 1643191994300,
     "user": {
      "displayName": "Christiancarmine ESPOSITO",
      "photoUrl": "https://lh3.googleusercontent.com/a-/AOh14GgRnIU0y8XEW2JKncYto1ghjgCtDrNSir0BcaBXqOWCG_1C7Wpqe9NC_tS9bTp70VWK0asCDj3sio0gUwri7M5T0dCM7460h5gqRbLsIaNz7MSGlxaxXXcN1XAv9AGJ3UnpOeX5DUiXmmbPmqOu96JTQOPh3tCzK5bK8Z4H16hqAL4aJAkSPGMnMRu4I5HvCr-msXdMZm3mahHyadlWfC7IKoe3Is2WIvTpxvY08eIzInEE4CPSQ_-xIOVbKG0Rquyhpn8xxGLkHg5LV7NTIIsG9t5zytHt-NeGQZlWEut1imDkpkbf0H2gYs5z5_vAQ5sfz_qubbCGZ6z4ZvMka2sxbswhb2aLaI_Gd2GSe5LsDxZ8AzwUttkUS98NH0w5iM6baiZ83Mv_kGczp_zezmPNk_q7N7hug7KXn2d3j1_E9dPHFbf2mVOsOTWTriGXnHrHS8BDhziGIwwfHsqgIoba8wPUKYWYiziQq-h0k0l5C1tp2XJeiq2tGtjfr8kSleEhRaW88_Lw9mynJeu9wVLzIhzQju2BABk359Vsekv6MUdqKpX0shUqu_qFMb3WA5PJvmAR5sxB_iomFY7vrXpZT-Vu2LGnXft2uS8JnBb4b1frDfVK3v4wbRyk9AjEKVQl6ZaRg-_iV---2OIqSA6EygTlYu5V7k5hJhWS_gQl_kYzne43n2Q-ML8tMvVLve2B96qPkPBBnPHWzCpBBKC39c5YCvK65OIpbfGeuu152B1QAxv5d3ofR-TyKdjarbhPCQ=s64",
      "userId": "10739702773689565419"
     },
     "user_tz": -60
    },
    "id": "yUyimPzD4tca"
   },
   "outputs": [],
   "source": [
    "#################################\n",
    "##### Neural Network model #####\n",
    "#################################\n",
    "\n",
    "cfg = {\n",
    "    'VGG11': [64, 'M', 128, 'M', 256, 256, 'M', 512, 512, 'M', 512, 512, 'M'],\n",
    "    'VGG13': [64, 64, 'M', 128, 128, 'M', 256, 256, 'M', 512, 512, 'M', 512, 512, 'M'],\n",
    "    'VGG16': [64, 64, 'M', 128, 128, 'M', 256, 256, 256, 'M', 512, 512, 512, 'M', 512, 512, 512, 'M'],\n",
    "    'VGG19': [64, 64, 'M', 128, 128, 'M', 256, 256, 256, 256, 'M', 512, 512, 512, 512, 'M', 512, 512, 512, 512, 'M'],\n",
    "}\n",
    "\n",
    "import torch\n",
    "import torch.nn as nn\n",
    "\n",
    "class VGG(nn.Module):\n",
    "    def __init__(self, vgg_name):\n",
    "      super(VGG, self).__init__()\n",
    "      self.features = self._make_layers(cfg[vgg_name])\n",
    "      self.classifier = nn.Sequential(\n",
    "        nn.Linear(512, 512),\n",
    "        nn.ReLU(True),\n",
    "        nn.Linear(512, 512),\n",
    "        nn.ReLU(True),\n",
    "        nn.Linear(512, 10)\n",
    "      )      \n",
    "\n",
    "    def forward(self, x):\n",
    "      out = self.features(x)\n",
    "      out = out.view(out.size(0), -1)\n",
    "      out = self.classifier(out)\n",
    "      output = F.log_softmax(out, dim=1)\n",
    "      return output\n",
    "\n",
    "    def _make_layers(self, cfg):\n",
    "      layers = []\n",
    "      in_channels = 3\n",
    "      for x in cfg:\n",
    "        if x == 'M':\n",
    "          layers += [nn.MaxPool2d(kernel_size=2, stride=2)]\n",
    "        else:\n",
    "          layers += [nn.Conv2d(in_channels, x, kernel_size=3, padding=1),\n",
    "                     nn.BatchNorm2d(x),\n",
    "                     nn.ReLU(inplace=True)]\n",
    "          in_channels = x\n",
    "      layers += [nn.AvgPool2d(kernel_size=1, stride=1)]\n",
    "      return nn.Sequential(*layers)"
   ]
  },
  {
   "cell_type": "markdown",
   "metadata": {
    "id": "7xuWifho438y"
   },
   "source": [
    "La funzione client_update addestra il modello client sui dati del client privato.\n",
    "\n"
   ]
  },
  {
   "cell_type": "code",
   "execution_count": 6,
   "metadata": {
    "executionInfo": {
     "elapsed": 7,
     "status": "ok",
     "timestamp": 1643192119541,
     "user": {
      "displayName": "Christiancarmine ESPOSITO",
      "photoUrl": "https://lh3.googleusercontent.com/a-/AOh14GgRnIU0y8XEW2JKncYto1ghjgCtDrNSir0BcaBXqOWCG_1C7Wpqe9NC_tS9bTp70VWK0asCDj3sio0gUwri7M5T0dCM7460h5gqRbLsIaNz7MSGlxaxXXcN1XAv9AGJ3UnpOeX5DUiXmmbPmqOu96JTQOPh3tCzK5bK8Z4H16hqAL4aJAkSPGMnMRu4I5HvCr-msXdMZm3mahHyadlWfC7IKoe3Is2WIvTpxvY08eIzInEE4CPSQ_-xIOVbKG0Rquyhpn8xxGLkHg5LV7NTIIsG9t5zytHt-NeGQZlWEut1imDkpkbf0H2gYs5z5_vAQ5sfz_qubbCGZ6z4ZvMka2sxbswhb2aLaI_Gd2GSe5LsDxZ8AzwUttkUS98NH0w5iM6baiZ83Mv_kGczp_zezmPNk_q7N7hug7KXn2d3j1_E9dPHFbf2mVOsOTWTriGXnHrHS8BDhziGIwwfHsqgIoba8wPUKYWYiziQq-h0k0l5C1tp2XJeiq2tGtjfr8kSleEhRaW88_Lw9mynJeu9wVLzIhzQju2BABk359Vsekv6MUdqKpX0shUqu_qFMb3WA5PJvmAR5sxB_iomFY7vrXpZT-Vu2LGnXft2uS8JnBb4b1frDfVK3v4wbRyk9AjEKVQl6ZaRg-_iV---2OIqSA6EygTlYu5V7k5hJhWS_gQl_kYzne43n2Q-ML8tMvVLve2B96qPkPBBnPHWzCpBBKC39c5YCvK65OIpbfGeuu152B1QAxv5d3ofR-TyKdjarbhPCQ=s64",
      "userId": "10739702773689565419"
     },
     "user_tz": -60
    },
    "id": "7Tg0v8-N49xx"
   },
   "outputs": [],
   "source": [
    "def client_update(client_model, optimizer, train_loader, epoch=5):\n",
    "    model.train()\n",
    "    for e in range(epoch):\n",
    "        for batch_idx, (data, target) in enumerate(train_loader):\n",
    "            data, target = data.cuda(), target.cuda()\n",
    "            optimizer.zero_grad()\n",
    "            output = client_model(data)\n",
    "            loss = F.nll_loss(output, target)\n",
    "            loss.backward()\n",
    "            optimizer.step()\n",
    "    return loss.item()"
   ]
  },
  {
   "cell_type": "markdown",
   "metadata": {
    "id": "1W-MW2O_5Cmo"
   },
   "source": [
    "La funzione server_aggregate aggrega i pesi del modello ricevuti da ogni client e aggiorna il modello globale con i pesi aggiornati."
   ]
  },
  {
   "cell_type": "code",
   "execution_count": 7,
   "metadata": {
    "executionInfo": {
     "elapsed": 387,
     "status": "ok",
     "timestamp": 1643192253503,
     "user": {
      "displayName": "Christiancarmine ESPOSITO",
      "photoUrl": "https://lh3.googleusercontent.com/a-/AOh14GgRnIU0y8XEW2JKncYto1ghjgCtDrNSir0BcaBXqOWCG_1C7Wpqe9NC_tS9bTp70VWK0asCDj3sio0gUwri7M5T0dCM7460h5gqRbLsIaNz7MSGlxaxXXcN1XAv9AGJ3UnpOeX5DUiXmmbPmqOu96JTQOPh3tCzK5bK8Z4H16hqAL4aJAkSPGMnMRu4I5HvCr-msXdMZm3mahHyadlWfC7IKoe3Is2WIvTpxvY08eIzInEE4CPSQ_-xIOVbKG0Rquyhpn8xxGLkHg5LV7NTIIsG9t5zytHt-NeGQZlWEut1imDkpkbf0H2gYs5z5_vAQ5sfz_qubbCGZ6z4ZvMka2sxbswhb2aLaI_Gd2GSe5LsDxZ8AzwUttkUS98NH0w5iM6baiZ83Mv_kGczp_zezmPNk_q7N7hug7KXn2d3j1_E9dPHFbf2mVOsOTWTriGXnHrHS8BDhziGIwwfHsqgIoba8wPUKYWYiziQq-h0k0l5C1tp2XJeiq2tGtjfr8kSleEhRaW88_Lw9mynJeu9wVLzIhzQju2BABk359Vsekv6MUdqKpX0shUqu_qFMb3WA5PJvmAR5sxB_iomFY7vrXpZT-Vu2LGnXft2uS8JnBb4b1frDfVK3v4wbRyk9AjEKVQl6ZaRg-_iV---2OIqSA6EygTlYu5V7k5hJhWS_gQl_kYzne43n2Q-ML8tMvVLve2B96qPkPBBnPHWzCpBBKC39c5YCvK65OIpbfGeuu152B1QAxv5d3ofR-TyKdjarbhPCQ=s64",
      "userId": "10739702773689565419"
     },
     "user_tz": -60
    },
    "id": "LPSUOABS5H7_"
   },
   "outputs": [],
   "source": [
    "def server_aggregate(global_model, client_models):\n",
    "    ### This will take simple mean of the weights of models ###\n",
    "    global_dict = global_model.state_dict()\n",
    "    for k in global_dict.keys():\n",
    "      global_dict[k] = torch.stack([client_models[i].state_dict()[k].float() for i in range(len(client_models))], 0).mean(0)\n",
    "    global_model.load_state_dict(global_dict)\n",
    "    for model in client_models:\n",
    "      model.load_state_dict(global_model.state_dict())"
   ]
  },
  {
   "cell_type": "markdown",
   "metadata": {
    "id": "-IEj2U3U5X0g"
   },
   "source": [
    "La funzione di test è la funzione standard, che prende il modello globale insieme al caricatore di test come input e restituisce la perdita e l'accuratezza del test.\n",
    "\n"
   ]
  },
  {
   "cell_type": "code",
   "execution_count": null,
   "metadata": {
    "id": "1B1ZGD_m5dzj"
   },
   "outputs": [],
   "source": [
    "def test(global_model, test_loader):\n",
    "    model.eval()\n",
    "    test_loss = 0\n",
    "    correct = 0\n",
    "    with torch.no_grad():\n",
    "        for data, target in test_loader:\n",
    "            data, target = data.cuda(), target.cuda()\n",
    "            output = global_model(data)\n",
    "            test_loss += F.nll_loss(output, target, reduction='sum').item()  # sum up batch loss\n",
    "            pred = output.argmax(dim=1, keepdim=True)  # get the index of the max log-probability\n",
    "            correct += pred.eq(target.view_as(pred)).sum().item()\n",
    "\n",
    "    test_loss /= len(test_loader.dataset)\n",
    "    acc = correct / len(test_loader.dataset)\n",
    "\n",
    "    return test_loss, acc"
   ]
  },
  {
   "cell_type": "markdown",
   "metadata": {
    "id": "hRMXkFCr5hsR"
   },
   "source": [
    "Un modello globale, insieme ai singoli client_models, viene inizializzato con VGG19 su una GPU. SGD viene utilizzato come ottimizzatore per tutti i modelli client."
   ]
  },
  {
   "cell_type": "markdown",
   "metadata": {
    "id": "7v7ObZBD6QFi"
   },
   "source": [
    "Verifica se GPU è in esecuzione. (altrimenti Go to Menu > Runtime > Change runtime.)"
   ]
  },
  {
   "cell_type": "code",
   "execution_count": null,
   "metadata": {
    "colab": {
     "base_uri": "https://localhost:8080/"
    },
    "executionInfo": {
     "elapsed": 10,
     "status": "ok",
     "timestamp": 1627110767459,
     "user": {
      "displayName": "Christian Esposito",
      "photoUrl": "https://lh3.googleusercontent.com/a-/AOh14GjQEO84s6Clfnw-bnCI9Tdiy-mM5mjdy0Ybk95k_w=s64",
      "userId": "16624433389610499958"
     },
     "user_tz": -120
    },
    "id": "vBlvYSG36Oej",
    "outputId": "8eb1ce42-7896-4681-c112-c8b836abb71c"
   },
   "outputs": [
    {
     "name": "stdout",
     "output_type": "stream",
     "text": [
      "Sat Jul 24 07:12:47 2021       \n",
      "+-----------------------------------------------------------------------------+\n",
      "| NVIDIA-SMI 470.42.01    Driver Version: 460.32.03    CUDA Version: 11.2     |\n",
      "|-------------------------------+----------------------+----------------------+\n",
      "| GPU  Name        Persistence-M| Bus-Id        Disp.A | Volatile Uncorr. ECC |\n",
      "| Fan  Temp  Perf  Pwr:Usage/Cap|         Memory-Usage | GPU-Util  Compute M. |\n",
      "|                               |                      |               MIG M. |\n",
      "|===============================+======================+======================|\n",
      "|   0  Tesla T4            Off  | 00000000:00:04.0 Off |                    0 |\n",
      "| N/A   39C    P8     9W /  70W |      0MiB / 15109MiB |      0%      Default |\n",
      "|                               |                      |                  N/A |\n",
      "+-------------------------------+----------------------+----------------------+\n",
      "                                                                               \n",
      "+-----------------------------------------------------------------------------+\n",
      "| Processes:                                                                  |\n",
      "|  GPU   GI   CI        PID   Type   Process name                  GPU Memory |\n",
      "|        ID   ID                                                   Usage      |\n",
      "|=============================================================================|\n",
      "|  No running processes found                                                 |\n",
      "+-----------------------------------------------------------------------------+\n"
     ]
    }
   ],
   "source": [
    "!nvidia-smi"
   ]
  },
  {
   "cell_type": "markdown",
   "metadata": {
    "id": "G0wjSaES6hPg"
   },
   "source": [
    "Controlla se PyTorch è in grado di utilizzare la GPU"
   ]
  },
  {
   "cell_type": "code",
   "execution_count": 8,
   "metadata": {
    "colab": {
     "base_uri": "https://localhost:8080/"
    },
    "executionInfo": {
     "elapsed": 244,
     "status": "ok",
     "timestamp": 1643192314366,
     "user": {
      "displayName": "Christiancarmine ESPOSITO",
      "photoUrl": "https://lh3.googleusercontent.com/a-/AOh14GgRnIU0y8XEW2JKncYto1ghjgCtDrNSir0BcaBXqOWCG_1C7Wpqe9NC_tS9bTp70VWK0asCDj3sio0gUwri7M5T0dCM7460h5gqRbLsIaNz7MSGlxaxXXcN1XAv9AGJ3UnpOeX5DUiXmmbPmqOu96JTQOPh3tCzK5bK8Z4H16hqAL4aJAkSPGMnMRu4I5HvCr-msXdMZm3mahHyadlWfC7IKoe3Is2WIvTpxvY08eIzInEE4CPSQ_-xIOVbKG0Rquyhpn8xxGLkHg5LV7NTIIsG9t5zytHt-NeGQZlWEut1imDkpkbf0H2gYs5z5_vAQ5sfz_qubbCGZ6z4ZvMka2sxbswhb2aLaI_Gd2GSe5LsDxZ8AzwUttkUS98NH0w5iM6baiZ83Mv_kGczp_zezmPNk_q7N7hug7KXn2d3j1_E9dPHFbf2mVOsOTWTriGXnHrHS8BDhziGIwwfHsqgIoba8wPUKYWYiziQq-h0k0l5C1tp2XJeiq2tGtjfr8kSleEhRaW88_Lw9mynJeu9wVLzIhzQju2BABk359Vsekv6MUdqKpX0shUqu_qFMb3WA5PJvmAR5sxB_iomFY7vrXpZT-Vu2LGnXft2uS8JnBb4b1frDfVK3v4wbRyk9AjEKVQl6ZaRg-_iV---2OIqSA6EygTlYu5V7k5hJhWS_gQl_kYzne43n2Q-ML8tMvVLve2B96qPkPBBnPHWzCpBBKC39c5YCvK65OIpbfGeuu152B1QAxv5d3ofR-TyKdjarbhPCQ=s64",
      "userId": "10739702773689565419"
     },
     "user_tz": -60
    },
    "id": "hrJQrYxs6iQW",
    "outputId": "1de23d17-1609-47e1-cdbc-a3e0fba885f3"
   },
   "outputs": [
    {
     "data": {
      "text/plain": [
       "True"
      ]
     },
     "execution_count": 8,
     "metadata": {},
     "output_type": "execute_result"
    }
   ],
   "source": [
    "import torch\n",
    "torch.cuda.is_available()\n",
    "# Output would be True if Pytorch is using GPU otherwise it would be False.\n"
   ]
  },
  {
   "cell_type": "code",
   "execution_count": 9,
   "metadata": {
    "executionInfo": {
     "elapsed": 14829,
     "status": "ok",
     "timestamp": 1643192432054,
     "user": {
      "displayName": "Christiancarmine ESPOSITO",
      "photoUrl": "https://lh3.googleusercontent.com/a-/AOh14GgRnIU0y8XEW2JKncYto1ghjgCtDrNSir0BcaBXqOWCG_1C7Wpqe9NC_tS9bTp70VWK0asCDj3sio0gUwri7M5T0dCM7460h5gqRbLsIaNz7MSGlxaxXXcN1XAv9AGJ3UnpOeX5DUiXmmbPmqOu96JTQOPh3tCzK5bK8Z4H16hqAL4aJAkSPGMnMRu4I5HvCr-msXdMZm3mahHyadlWfC7IKoe3Is2WIvTpxvY08eIzInEE4CPSQ_-xIOVbKG0Rquyhpn8xxGLkHg5LV7NTIIsG9t5zytHt-NeGQZlWEut1imDkpkbf0H2gYs5z5_vAQ5sfz_qubbCGZ6z4ZvMka2sxbswhb2aLaI_Gd2GSe5LsDxZ8AzwUttkUS98NH0w5iM6baiZ83Mv_kGczp_zezmPNk_q7N7hug7KXn2d3j1_E9dPHFbf2mVOsOTWTriGXnHrHS8BDhziGIwwfHsqgIoba8wPUKYWYiziQq-h0k0l5C1tp2XJeiq2tGtjfr8kSleEhRaW88_Lw9mynJeu9wVLzIhzQju2BABk359Vsekv6MUdqKpX0shUqu_qFMb3WA5PJvmAR5sxB_iomFY7vrXpZT-Vu2LGnXft2uS8JnBb4b1frDfVK3v4wbRyk9AjEKVQl6ZaRg-_iV---2OIqSA6EygTlYu5V7k5hJhWS_gQl_kYzne43n2Q-ML8tMvVLve2B96qPkPBBnPHWzCpBBKC39c5YCvK65OIpbfGeuu152B1QAxv5d3ofR-TyKdjarbhPCQ=s64",
      "userId": "10739702773689565419"
     },
     "user_tz": -60
    },
    "id": "QqwdjxC15pUn"
   },
   "outputs": [],
   "source": [
    "global_model =  VGG('VGG19').cuda()\n",
    "\n",
    "############## client models ##############\n",
    "client_models = [ VGG('VGG19').cuda() for _ in range(num_selected)]\n",
    "for model in client_models:\n",
    "    model.load_state_dict(global_model.state_dict()) ### initial synchronizing with global model \n",
    "\n",
    "############### optimizers ################\n",
    "opt = [optim.SGD(model.parameters(), lr=0.1) for model in client_models]"
   ]
  },
  {
   "cell_type": "markdown",
   "metadata": {
    "id": "v7pPeR3q7813"
   },
   "source": [
    "Main dell'esempio"
   ]
  },
  {
   "cell_type": "code",
   "execution_count": null,
   "metadata": {
    "colab": {
     "base_uri": "https://localhost:8080/"
    },
    "executionInfo": {
     "elapsed": 10244084,
     "status": "ok",
     "timestamp": 1627121024735,
     "user": {
      "displayName": "Christian Esposito",
      "photoUrl": "https://lh3.googleusercontent.com/a-/AOh14GjQEO84s6Clfnw-bnCI9Tdiy-mM5mjdy0Ybk95k_w=s64",
      "userId": "16624433389610499958"
     },
     "user_tz": -120
    },
    "id": "n6tb0nJV7YI9",
    "outputId": "b05f737b-9f53-4d90-8914-b2659fbb51fe"
   },
   "outputs": [],
   "source": [
    "###### List containing info about learning #########\n",
    "losses_train = []\n",
    "losses_test = []\n",
    "acc_train = []\n",
    "acc_test = []\n",
    "\n",
    "# Runnining FL\n",
    "acc_rounds = np.empty(0)\n",
    "for r in range(num_rounds):\n",
    "    # select random clients\n",
    "    client_idx = np.random.permutation(num_clients)[:num_selected]\n",
    "    # client update\n",
    "    loss = 0\n",
    "    for i in tqdm(range(num_selected)):\n",
    "      loss += client_update(client_models[i], opt[i], train_loader[client_idx[i]], epoch=epochs)\n",
    "    \n",
    "    losses_train.append(loss)\n",
    "    # server aggregate\n",
    "    server_aggregate(global_model, client_models)\n",
    "    \n",
    "    test_loss, acc = test(global_model, test_loader)\n",
    "    losses_test.append(test_loss)\n",
    "    acc_test.append(acc)\n",
    "    print('%d-th round' % r)\n",
    "    print('average train loss %0.3g | test loss %0.3g | test acc: %0.3f' % (loss / num_selected, test_loss, acc))\n",
    "    acc_rounds = np.append(acc_rounds, 100.*acc)"
   ]
  },
  {
   "cell_type": "markdown",
   "metadata": {
    "id": "x8Ec-NJ9zr86"
   },
   "source": [
    "Realizzazione della stessa operazione di classificazione con modello centralizzato, senza Federated Learning"
   ]
  },
  {
   "cell_type": "code",
   "execution_count": null,
   "metadata": {
    "colab": {
     "base_uri": "https://localhost:8080/",
     "height": 1000
    },
    "executionInfo": {
     "elapsed": 4468482,
     "status": "ok",
     "timestamp": 1627125493212,
     "user": {
      "displayName": "Christian Esposito",
      "photoUrl": "https://lh3.googleusercontent.com/a-/AOh14GjQEO84s6Clfnw-bnCI9Tdiy-mM5mjdy0Ybk95k_w=s64",
      "userId": "16624433389610499958"
     },
     "user_tz": -120
    },
    "id": "qh1LZvJ9z2xn",
    "outputId": "a76586d3-845d-43ad-8660-0f9e75e3875c"
   },
   "outputs": [],
   "source": [
    "best_acc = 0  # best test accuracy\n",
    "start_epoch = 0  # start from epoch 0 or last checkpoint epoch\n",
    "\n",
    "trainloader_central = torch.utils.data.DataLoader(traindata, batch_size=128, shuffle=True, num_workers=2)\n",
    "testset = torchvision.datasets.CIFAR10(root='./data', train=False, download=True, transform=transform_test)\n",
    "testloader_central = torch.utils.data.DataLoader(testset, batch_size=100, shuffle=False, num_workers=2)\n",
    "\n",
    "model_central =  VGG('VGG19').cuda()\n",
    "criterion = nn.CrossEntropyLoss()\n",
    "optimizer = optim.SGD(model_central.parameters(), lr=0.1)\n",
    "scheduler = torch.optim.lr_scheduler.CosineAnnealingLR(optimizer, T_max=200)\n",
    "\n",
    "from IPython.display import HTML, display\n",
    "import time\n",
    "\n",
    "def progress(value, max=100):\n",
    "    return HTML(\"\"\"\n",
    "        <progress\n",
    "            value='{value}'\n",
    "            max='{max}',\n",
    "            style='width: 100%'\n",
    "        >\n",
    "            {value}\n",
    "        </progress>\n",
    "    \"\"\".format(value=value, max=max))\n",
    "\n",
    "# Training\n",
    "def train(epoch):\n",
    "    model_central.train()\n",
    "    train_loss = 0\n",
    "    correct = 0\n",
    "    total = 0\n",
    "    out = display(progress(0, 100), display_id=True)\n",
    "    for batch_idx, (inputs, targets) in enumerate(trainloader_central):\n",
    "        inputs, targets = inputs.cuda(), targets.cuda()\n",
    "        optimizer.zero_grad()\n",
    "        outputs = model_central(inputs)\n",
    "        loss = criterion(outputs, targets)\n",
    "        loss.backward()\n",
    "        optimizer.step()\n",
    "\n",
    "        train_loss += loss.item()\n",
    "        _, predicted = outputs.max(1)\n",
    "        total += targets.size(0)\n",
    "        correct += predicted.eq(targets).sum().item()\n",
    "\n",
    "        #print('Loss: %.3f | Acc: %.3f%% (%d/%d)'\n",
    "        #             % (train_loss/(batch_idx+1)), 100.*correct/total, correct, total))\n",
    "        out.update(progress(batch_idx+1, 100))\n",
    "    return train_loss, correct, total\n",
    "\n",
    "def test(epoch):\n",
    "    global best_acc\n",
    "    model_central.eval()\n",
    "    test_loss = 0\n",
    "    correct = 0\n",
    "    total = 0\n",
    "    with torch.no_grad():\n",
    "        out = display(progress(0, 100), display_id=True)\n",
    "        for batch_idx, (inputs, targets) in enumerate(testloader_central):\n",
    "            inputs, targets = inputs.cuda(), targets.cuda()\n",
    "            outputs = model_central(inputs)\n",
    "            loss = criterion(outputs, targets)\n",
    "\n",
    "            test_loss += loss.item()\n",
    "            _, predicted = outputs.max(1)\n",
    "            total += targets.size(0)\n",
    "            correct += predicted.eq(targets).sum().item()\n",
    "\n",
    "            #print('Loss: %.3f | Acc: %.3f%% (%d/%d)'\n",
    "            #            % (test_loss/(batch_idx+1)), 100.*correct/total, correct, total))\n",
    "            out.update(progress(batch_idx+1, 100))\n",
    "    return test_loss, correct, total\n",
    "\n",
    "acc_epoch = np.empty(0)\n",
    "for epoch in range(start_epoch, start_epoch+150):\n",
    "    train_loss, correct, total = train(epoch)\n",
    "    print(\"Epoch %s -  Train Loss: %s | Acc: %s\" %(epoch, train_loss, 100.*correct/total))\n",
    "    test_loss, correct, total = test(epoch)\n",
    "    print(\"Epoch %s -  Test Loss: %s | Acc: %s\" %(epoch, test_loss, 100.*correct/total))\n",
    "    acc_epoch = np.append(acc_epoch, 100.*correct/total)\n",
    "    scheduler.step()"
   ]
  },
  {
   "cell_type": "markdown",
   "metadata": {
    "id": "XZnVjaMfWgtZ"
   },
   "source": [
    "Grafico della differenza nell'accuratezza tra i due modelli"
   ]
  },
  {
   "cell_type": "code",
   "execution_count": null,
   "metadata": {
    "colab": {
     "base_uri": "https://localhost:8080/"
    },
    "executionInfo": {
     "elapsed": 15,
     "status": "ok",
     "timestamp": 1627125493214,
     "user": {
      "displayName": "Christian Esposito",
      "photoUrl": "https://lh3.googleusercontent.com/a-/AOh14GjQEO84s6Clfnw-bnCI9Tdiy-mM5mjdy0Ybk95k_w=s64",
      "userId": "16624433389610499958"
     },
     "user_tz": -120
    },
    "id": "Tk0cU18POJZR",
    "outputId": "573623aa-4707-4abb-b0d1-832b45fb74f5"
   },
   "outputs": [
    {
     "name": "stdout",
     "output_type": "stream",
     "text": [
      "Accurancy Vector saved\n"
     ]
    }
   ],
   "source": [
    "import numpy as np\n",
    "import os\n",
    "\n",
    "np.savetxt(fname=\"/content/drive/MyDrive/CenLearningAcc.csv\", delimiter=\",\", X=acc_epoch)\n",
    "\n",
    "np.savetxt(fname=\"/content/drive/MyDrive/FedLearningAcc.csv\", delimiter=\",\", X=acc_rounds)\n",
    "\n",
    "print('Accurancy Vector saved')"
   ]
  },
  {
   "cell_type": "code",
   "execution_count": null,
   "metadata": {
    "colab": {
     "base_uri": "https://localhost:8080/",
     "height": 297
    },
    "executionInfo": {
     "elapsed": 325,
     "status": "ok",
     "timestamp": 1627125618778,
     "user": {
      "displayName": "Christian Esposito",
      "photoUrl": "https://lh3.googleusercontent.com/a-/AOh14GjQEO84s6Clfnw-bnCI9Tdiy-mM5mjdy0Ybk95k_w=s64",
      "userId": "16624433389610499958"
     },
     "user_tz": -120
    },
    "id": "zUpecXTvWjxu",
    "outputId": "61f2e753-7f65-4b70-cafe-1fab85929707"
   },
   "outputs": [
    {
     "data": {
      "image/png": "[encoded data removed]",
      "text/plain": [
       "<Figure size 432x288 with 1 Axes>"
      ]
     },
     "metadata": {
      "needs_background": "light",
      "tags": []
     },
     "output_type": "display_data"
    },
    {
     "name": "stdout",
     "output_type": "stream",
     "text": [
      "Distance in Accurancy:  2.5799999999999983\n"
     ]
    }
   ],
   "source": [
    "import matplotlib.pyplot as plt\n",
    "\n",
    "acc_rounds_saved = np.loadtxt(\n",
    "    fname=\"/content/drive/MyDrive/FedLearningAcc.csv\", delimiter=\",\"\n",
    ")\n",
    "\n",
    "acc_epoch_saved = np.loadtxt(\n",
    "    fname=\"/content/drive/MyDrive/CenLearningAcc.csv\", delimiter=\",\"\n",
    ")\n",
    "\n",
    "plt.plot(np.linspace(0, acc_epoch_saved.size, acc_epoch_saved.size), acc_epoch_saved, label='Centralised Learning')\n",
    "plt.plot(np.linspace(0, acc_rounds_saved.size, acc_rounds_saved.size), acc_rounds_saved, label='Federated Learning')\n",
    "plt.legend()\n",
    "plt.xlabel(\"Rounds/Epochs\")\n",
    "plt.ylabel(\"Accuracy\")\n",
    "plt.show()\n",
    "print('Distance in Accurancy: ', acc_epoch[acc_epoch.size-1]-acc_rounds[acc_rounds.size-1])"
   ]
  }
 ],
 "metadata": {
  "accelerator": "GPU",
  "colab": {
   "collapsed_sections": [],
   "name": "Esempio FedLearning.ipynb",
   "provenance": []
  },
  "kernelspec": {
   "display_name": "Python 3",
   "name": "python3"
  },
  "language_info": {
   "name": "python",
   "version": "3.10.6"
  },
  "widgets": {
   "application/vnd.jupyter.widget-state+json": {
    "0fc20a4b4e0445a89e58007788c39443": {
     "model_module": "@jupyter-widgets/controls",
     "model_module_version": "1.5.0",
     "model_name": "DescriptionStyleModel",
     "state": {
      "_model_module": "@jupyter-widgets/controls",
      "_model_module_version": "1.5.0",
      "_model_name": "DescriptionStyleModel",
      "_view_count": null,
      "_view_module": "@jupyter-widgets/base",
      "_view_module_version": "1.2.0",
      "_view_name": "StyleView",
      "description_width": ""
     }
    },
    "37df8ed8ec0a4251935d45176d17df28": {
     "model_module": "@jupyter-widgets/controls",
     "model_module_version": "1.5.0",
     "model_name": "HBoxModel",
     "state": {
      "_dom_classes": [],
      "_model_module": "@jupyter-widgets/controls",
      "_model_module_version": "1.5.0",
      "_model_name": "HBoxModel",
      "_view_count": null,
      "_view_module": "@jupyter-widgets/controls",
      "_view_module_version": "1.5.0",
      "_view_name": "HBoxView",
      "box_style": "",
      "children": [
       "IPY_MODEL_feb81cf91eb6437c827a355d8080a8a2",
       "IPY_MODEL_8a438c1a934c4fe684a36d02d0ffbc6b",
       "IPY_MODEL_7d539322fe7c409c8e1ead5ac7cd3288"
      ],
      "layout": "IPY_MODEL_5f8cab1a964842088e8c669cb8147206"
     }
    },
    "5f8cab1a964842088e8c669cb8147206": {
     "model_module": "@jupyter-widgets/base",
     "model_module_version": "1.2.0",
     "model_name": "LayoutModel",
     "state": {
      "_model_module": "@jupyter-widgets/base",
      "_model_module_version": "1.2.0",
      "_model_name": "LayoutModel",
      "_view_count": null,
      "_view_module": "@jupyter-widgets/base",
      "_view_module_version": "1.2.0",
      "_view_name": "LayoutView",
      "align_content": null,
      "align_items": null,
      "align_self": null,
      "border": null,
      "bottom": null,
      "display": null,
      "flex": null,
      "flex_flow": null,
      "grid_area": null,
      "grid_auto_columns": null,
      "grid_auto_flow": null,
      "grid_auto_rows": null,
      "grid_column": null,
      "grid_gap": null,
      "grid_row": null,
      "grid_template_areas": null,
      "grid_template_columns": null,
      "grid_template_rows": null,
      "height": null,
      "justify_content": null,
      "justify_items": null,
      "left": null,
      "margin": null,
      "max_height": null,
      "max_width": null,
      "min_height": null,
      "min_width": null,
      "object_fit": null,
      "object_position": null,
      "order": null,
      "overflow": null,
      "overflow_x": null,
      "overflow_y": null,
      "padding": null,
      "right": null,
      "top": null,
      "visibility": null,
      "width": null
     }
    },
    "7c75b94980b74256a9be4de830ab0e0d": {
     "model_module": "@jupyter-widgets/controls",
     "model_module_version": "1.5.0",
     "model_name": "ProgressStyleModel",
     "state": {
      "_model_module": "@jupyter-widgets/controls",
      "_model_module_version": "1.5.0",
      "_model_name": "ProgressStyleModel",
      "_view_count": null,
      "_view_module": "@jupyter-widgets/base",
      "_view_module_version": "1.2.0",
      "_view_name": "StyleView",
      "bar_color": null,
      "description_width": ""
     }
    },
    "7d539322fe7c409c8e1ead5ac7cd3288": {
     "model_module": "@jupyter-widgets/controls",
     "model_module_version": "1.5.0",
     "model_name": "HTMLModel",
     "state": {
      "_dom_classes": [],
      "_model_module": "@jupyter-widgets/controls",
      "_model_module_version": "1.5.0",
      "_model_name": "HTMLModel",
      "_view_count": null,
      "_view_module": "@jupyter-widgets/controls",
      "_view_module_version": "1.5.0",
      "_view_name": "HTMLView",
      "description": "",
      "description_tooltip": null,
      "layout": "IPY_MODEL_b9334522544c49268f9ed676ee8adbda",
      "placeholder": "​",
      "style": "IPY_MODEL_0fc20a4b4e0445a89e58007788c39443",
      "value": " 170499072/? [00:02&lt;00:00, 55969090.28it/s]"
     }
    },
    "80d54d02e04047cc88d3baa27f76271e": {
     "model_module": "@jupyter-widgets/controls",
     "model_module_version": "1.5.0",
     "model_name": "DescriptionStyleModel",
     "state": {
      "_model_module": "@jupyter-widgets/controls",
      "_model_module_version": "1.5.0",
      "_model_name": "DescriptionStyleModel",
      "_view_count": null,
      "_view_module": "@jupyter-widgets/base",
      "_view_module_version": "1.2.0",
      "_view_name": "StyleView",
      "description_width": ""
     }
    },
    "8a438c1a934c4fe684a36d02d0ffbc6b": {
     "model_module": "@jupyter-widgets/controls",
     "model_module_version": "1.5.0",
     "model_name": "FloatProgressModel",
     "state": {
      "_dom_classes": [],
      "_model_module": "@jupyter-widgets/controls",
      "_model_module_version": "1.5.0",
      "_model_name": "FloatProgressModel",
      "_view_count": null,
      "_view_module": "@jupyter-widgets/controls",
      "_view_module_version": "1.5.0",
      "_view_name": "ProgressView",
      "bar_style": "success",
      "description": "",
      "description_tooltip": null,
      "layout": "IPY_MODEL_f1095c1644f248af899e1699f0eb81a7",
      "max": 170498071,
      "min": 0,
      "orientation": "horizontal",
      "style": "IPY_MODEL_7c75b94980b74256a9be4de830ab0e0d",
      "value": 170498071
     }
    },
    "ad45f3fb43444bd8834c2d732121f8d2": {
     "model_module": "@jupyter-widgets/base",
     "model_module_version": "1.2.0",
     "model_name": "LayoutModel",
     "state": {
      "_model_module": "@jupyter-widgets/base",
      "_model_module_version": "1.2.0",
      "_model_name": "LayoutModel",
      "_view_count": null,
      "_view_module": "@jupyter-widgets/base",
      "_view_module_version": "1.2.0",
      "_view_name": "LayoutView",
      "align_content": null,
      "align_items": null,
      "align_self": null,
      "border": null,
      "bottom": null,
      "display": null,
      "flex": null,
      "flex_flow": null,
      "grid_area": null,
      "grid_auto_columns": null,
      "grid_auto_flow": null,
      "grid_auto_rows": null,
      "grid_column": null,
      "grid_gap": null,
      "grid_row": null,
      "grid_template_areas": null,
      "grid_template_columns": null,
      "grid_template_rows": null,
      "height": null,
      "justify_content": null,
      "justify_items": null,
      "left": null,
      "margin": null,
      "max_height": null,
      "max_width": null,
      "min_height": null,
      "min_width": null,
      "object_fit": null,
      "object_position": null,
      "order": null,
      "overflow": null,
      "overflow_x": null,
      "overflow_y": null,
      "padding": null,
      "right": null,
      "top": null,
      "visibility": null,
      "width": null
     }
    },
    "b9334522544c49268f9ed676ee8adbda": {
     "model_module": "@jupyter-widgets/base",
     "model_module_version": "1.2.0",
     "model_name": "LayoutModel",
     "state": {
      "_model_module": "@jupyter-widgets/base",
      "_model_module_version": "1.2.0",
      "_model_name": "LayoutModel",
      "_view_count": null,
      "_view_module": "@jupyter-widgets/base",
      "_view_module_version": "1.2.0",
      "_view_name": "LayoutView",
      "align_content": null,
      "align_items": null,
      "align_self": null,
      "border": null,
      "bottom": null,
      "display": null,
      "flex": null,
      "flex_flow": null,
      "grid_area": null,
      "grid_auto_columns": null,
      "grid_auto_flow": null,
      "grid_auto_rows": null,
      "grid_column": null,
      "grid_gap": null,
      "grid_row": null,
      "grid_template_areas": null,
      "grid_template_columns": null,
      "grid_template_rows": null,
      "height": null,
      "justify_content": null,
      "justify_items": null,
      "left": null,
      "margin": null,
      "max_height": null,
      "max_width": null,
      "min_height": null,
      "min_width": null,
      "object_fit": null,
      "object_position": null,
      "order": null,
      "overflow": null,
      "overflow_x": null,
      "overflow_y": null,
      "padding": null,
      "right": null,
      "top": null,
      "visibility": null,
      "width": null
     }
    },
    "f1095c1644f248af899e1699f0eb81a7": {
     "model_module": "@jupyter-widgets/base",
     "model_module_version": "1.2.0",
     "model_name": "LayoutModel",
     "state": {
      "_model_module": "@jupyter-widgets/base",
      "_model_module_version": "1.2.0",
      "_model_name": "LayoutModel",
      "_view_count": null,
      "_view_module": "@jupyter-widgets/base",
      "_view_module_version": "1.2.0",
      "_view_name": "LayoutView",
      "align_content": null,
      "align_items": null,
      "align_self": null,
      "border": null,
      "bottom": null,
      "display": null,
      "flex": null,
      "flex_flow": null,
      "grid_area": null,
      "grid_auto_columns": null,
      "grid_auto_flow": null,
      "grid_auto_rows": null,
      "grid_column": null,
      "grid_gap": null,
      "grid_row": null,
      "grid_template_areas": null,
      "grid_template_columns": null,
      "grid_template_rows": null,
      "height": null,
      "justify_content": null,
      "justify_items": null,
      "left": null,
      "margin": null,
      "max_height": null,
      "max_width": null,
      "min_height": null,
      "min_width": null,
      "object_fit": null,
      "object_position": null,
      "order": null,
      "overflow": null,
      "overflow_x": null,
      "overflow_y": null,
      "padding": null,
      "right": null,
      "top": null,
      "visibility": null,
      "width": null
     }
    },
    "feb81cf91eb6437c827a355d8080a8a2": {
     "model_module": "@jupyter-widgets/controls",
     "model_module_version": "1.5.0",
     "model_name": "HTMLModel",
     "state": {
      "_dom_classes": [],
      "_model_module": "@jupyter-widgets/controls",
      "_model_module_version": "1.5.0",
      "_model_name": "HTMLModel",
      "_view_count": null,
      "_view_module": "@jupyter-widgets/controls",
      "_view_module_version": "1.5.0",
      "_view_name": "HTMLView",
      "description": "",
      "description_tooltip": null,
      "layout": "IPY_MODEL_ad45f3fb43444bd8834c2d732121f8d2",
      "placeholder": "​",
      "style": "IPY_MODEL_80d54d02e04047cc88d3baa27f76271e",
      "value": ""
     }
    }
   }
  }
 },
 "nbformat": 4,
 "nbformat_minor": 0
}
