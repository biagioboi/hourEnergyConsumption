{
 "cells": [
  {
   "cell_type": "code",
   "execution_count": 37,
   "metadata": {
    "collapsed": true,
    "ExecuteTime": {
     "end_time": "2024-05-07T06:09:55.210940Z",
     "start_time": "2024-05-07T06:09:55.203556Z"
    }
   },
   "outputs": [],
   "source": [
    "import numpy as np\n",
    "import matplotlib.pyplot as plt\n",
    "import pandas as pd\n",
    "import tensorflow as tf\n",
    "from keras.models import Sequential\n",
    "from keras.layers import Dense\n",
    "from keras.layers import LSTM\n",
    "from sklearn.preprocessing import MinMaxScaler\n",
    "from sklearn.metrics import mean_squared_error"
   ]
  },
  {
   "cell_type": "code",
   "execution_count": 38,
   "outputs": [],
   "source": [
    "# fix random seed for reproducibility\n",
    "tf.random.set_seed(7)"
   ],
   "metadata": {
    "collapsed": false,
    "ExecuteTime": {
     "end_time": "2024-05-07T06:09:57.311671Z",
     "start_time": "2024-05-07T06:09:57.242831Z"
    }
   }
  },
  {
   "cell_type": "code",
   "execution_count": 54,
   "outputs": [
    {
     "data": {
      "text/plain": "array([[1.2000e+01, 4.0000e+00, 1.0000e+00, 1.3478e+04],\n       [1.2000e+01, 4.0000e+00, 2.0000e+00, 1.2865e+04],\n       [1.2000e+01, 4.0000e+00, 3.0000e+00, 1.2577e+04],\n       ...,\n       [1.0000e+00, 0.0000e+00, 2.2000e+01, 2.0820e+04],\n       [1.0000e+00, 0.0000e+00, 2.3000e+01, 2.0415e+04],\n       [1.0000e+00, 1.0000e+00, 0.0000e+00, 1.9993e+04]], dtype=float32)"
     },
     "execution_count": 54,
     "metadata": {},
     "output_type": "execute_result"
    }
   ],
   "source": [
    "# load the dataset\n",
    "dataframe = pd.read_csv('dataset_custom.csv', usecols=[2,3,4,5], engine='python')\n",
    "dataset = dataframe.values\n",
    "dataset = dataset.astype('float32')\n",
    "dataset"
   ],
   "metadata": {
    "collapsed": false,
    "ExecuteTime": {
     "end_time": "2024-05-07T06:21:47.720125Z",
     "start_time": "2024-05-07T06:21:47.023093Z"
    }
   }
  },
  {
   "cell_type": "code",
   "execution_count": 55,
   "outputs": [
    {
     "data": {
      "text/plain": "array([[1.        , 0.6666667 , 0.04347826, 0.30037004],\n       [1.        , 0.6666667 , 0.08695652, 0.25312167],\n       [1.        , 0.6666667 , 0.13043478, 0.23092341],\n       ...,\n       [0.        , 0.        , 0.95652175, 0.8662711 ],\n       [0.        , 0.        , 1.        , 0.8350547 ],\n       [0.        , 0.16666667, 0.        , 0.8025282 ]], dtype=float32)"
     },
     "execution_count": 55,
     "metadata": {},
     "output_type": "execute_result"
    }
   ],
   "source": [
    "# normalize the dataset\n",
    "scaler = MinMaxScaler(feature_range=(0, 1))\n",
    "dataset = scaler.fit_transform(dataset)\n",
    "dataset"
   ],
   "metadata": {
    "collapsed": false,
    "ExecuteTime": {
     "end_time": "2024-05-07T06:21:57.668666Z",
     "start_time": "2024-05-07T06:21:57.661146Z"
    }
   }
  },
  {
   "cell_type": "code",
   "execution_count": 56,
   "outputs": [
    {
     "name": "stdout",
     "output_type": "stream",
     "text": [
      "81252 40021\n"
     ]
    }
   ],
   "source": [
    "# split into train and test sets\n",
    "train_size = int(len(dataset) * 0.67)\n",
    "test_size = len(dataset) - train_size\n",
    "train, test = dataset[0:train_size,:], dataset[train_size:len(dataset),:]\n",
    "print(len(train), len(test))"
   ],
   "metadata": {
    "collapsed": false,
    "ExecuteTime": {
     "end_time": "2024-05-07T06:22:27.936514Z",
     "start_time": "2024-05-07T06:22:27.931322Z"
    }
   }
  },
  {
   "cell_type": "code",
   "execution_count": 57,
   "outputs": [],
   "source": [
    "# convert an array of values into a dataset matrix\n",
    "def create_dataset(dataset, look_back=1):\n",
    "\tdataX, dataY = [], []\n",
    "\tfor i in range(len(dataset)-look_back-1):\n",
    "\t\ta = dataset[i:(i+look_back), 0]\n",
    "\t\tdataX.append(a)\n",
    "\t\tdataY.append(dataset[i + look_back, 0])\n",
    "\treturn np.array(dataX), np.array(dataY)"
   ],
   "metadata": {
    "collapsed": false,
    "ExecuteTime": {
     "end_time": "2024-05-07T06:22:44.256785Z",
     "start_time": "2024-05-07T06:22:44.252392Z"
    }
   }
  },
  {
   "cell_type": "code",
   "execution_count": 75,
   "outputs": [],
   "source": [
    "# reshape into X=t and Y=t+1\n",
    "look_back = 1\n",
    "trainX, trainY = train[:, :3], train[:, 3:4]\n",
    "testX, testY = test[:, :3], test[:, 3:4]"
   ],
   "metadata": {
    "collapsed": false,
    "ExecuteTime": {
     "end_time": "2024-05-07T06:28:08.493705Z",
     "start_time": "2024-05-07T06:28:08.485632Z"
    }
   }
  },
  {
   "cell_type": "code",
   "execution_count": 61,
   "outputs": [],
   "source": [
    "# reshape input to be [samples, time steps, features]\n",
    "num_samples = 1000\n",
    "time_steps = 24\n",
    "features = 3\n",
    "\n",
    "X = np.zeros((num_samples, time_steps, features))\n",
    "\n",
    "for i in range(num_samples):\n",
    "    X[i] = trainX[i*time_steps:(i+1)*time_steps, :]\n",
    "trainX = np.reshape(trainX, (trainX.shape[0], 1, trainX.shape[1]))\n",
    "testX = np.reshape(testX, (testX.shape[0], 1, testX.shape[1]))"
   ],
   "metadata": {
    "collapsed": false,
    "ExecuteTime": {
     "end_time": "2024-05-07T06:23:18.905465Z",
     "start_time": "2024-05-07T06:23:18.898141Z"
    }
   }
  },
  {
   "cell_type": "code",
   "execution_count": 63,
   "outputs": [
    {
     "data": {
      "text/plain": "array([[[1.]],\n\n       [[1.]],\n\n       [[1.]],\n\n       ...,\n\n       [[0.]],\n\n       [[0.]],\n\n       [[0.]]], dtype=float32)"
     },
     "execution_count": 63,
     "metadata": {},
     "output_type": "execute_result"
    }
   ],
   "source": [],
   "metadata": {
    "collapsed": false,
    "ExecuteTime": {
     "end_time": "2024-05-07T06:23:30.011498Z",
     "start_time": "2024-05-07T06:23:30.004828Z"
    }
   }
  },
  {
   "cell_type": "code",
   "execution_count": 31,
   "outputs": [
    {
     "name": "stdout",
     "output_type": "stream",
     "text": [
      "Epoch 1/100\n"
     ]
    },
    {
     "name": "stderr",
     "output_type": "stream",
     "text": [
      "/Users/biagioboi/Desktop/unisa/research/hourEnergyConsumption/venv/lib/python3.11/site-packages/keras/src/layers/rnn/rnn.py:204: UserWarning: Do not pass an `input_shape`/`input_dim` argument to a layer. When using Sequential models, prefer using an `Input(shape)` object as the first layer in the model instead.\n",
      "  super().__init__(**kwargs)\n"
     ]
    },
    {
     "name": "stdout",
     "output_type": "stream",
     "text": [
      "81250/81250 - 59s - 731us/step - loss: 0.0033\n",
      "Epoch 2/100\n",
      "81250/81250 - 51s - 625us/step - loss: 0.0025\n",
      "Epoch 3/100\n",
      "81250/81250 - 50s - 610us/step - loss: 0.0025\n",
      "Epoch 4/100\n",
      "81250/81250 - 49s - 605us/step - loss: 0.0025\n",
      "Epoch 5/100\n",
      "81250/81250 - 50s - 611us/step - loss: 0.0025\n",
      "Epoch 6/100\n",
      "81250/81250 - 50s - 621us/step - loss: 0.0025\n",
      "Epoch 7/100\n",
      "81250/81250 - 49s - 599us/step - loss: 0.0025\n",
      "Epoch 8/100\n",
      "81250/81250 - 50s - 612us/step - loss: 0.0025\n",
      "Epoch 9/100\n",
      "81250/81250 - 51s - 624us/step - loss: 0.0025\n",
      "Epoch 10/100\n",
      "81250/81250 - 50s - 616us/step - loss: 0.0025\n",
      "Epoch 11/100\n",
      "81250/81250 - 51s - 626us/step - loss: 0.0025\n",
      "Epoch 12/100\n",
      "81250/81250 - 50s - 614us/step - loss: 0.0025\n",
      "Epoch 13/100\n",
      "81250/81250 - 57s - 696us/step - loss: 0.0025\n",
      "Epoch 14/100\n",
      "81250/81250 - 44s - 538us/step - loss: 0.0025\n",
      "Epoch 15/100\n",
      "81250/81250 - 44s - 543us/step - loss: 0.0025\n",
      "Epoch 16/100\n",
      "81250/81250 - 44s - 544us/step - loss: 0.0025\n",
      "Epoch 17/100\n",
      "81250/81250 - 44s - 537us/step - loss: 0.0025\n",
      "Epoch 18/100\n",
      "81250/81250 - 45s - 554us/step - loss: 0.0025\n",
      "Epoch 19/100\n",
      "81250/81250 - 44s - 545us/step - loss: 0.0025\n",
      "Epoch 20/100\n",
      "81250/81250 - 44s - 545us/step - loss: 0.0025\n",
      "Epoch 21/100\n",
      "81250/81250 - 44s - 541us/step - loss: 0.0025\n",
      "Epoch 22/100\n",
      "81250/81250 - 44s - 539us/step - loss: 0.0025\n",
      "Epoch 23/100\n",
      "81250/81250 - 44s - 541us/step - loss: 0.0025\n",
      "Epoch 24/100\n",
      "81250/81250 - 44s - 545us/step - loss: 0.0025\n",
      "Epoch 25/100\n",
      "81250/81250 - 44s - 543us/step - loss: 0.0025\n",
      "Epoch 26/100\n",
      "81250/81250 - 44s - 543us/step - loss: 0.0025\n",
      "Epoch 27/100\n",
      "81250/81250 - 44s - 540us/step - loss: 0.0025\n",
      "Epoch 28/100\n",
      "81250/81250 - 44s - 544us/step - loss: 0.0025\n",
      "Epoch 29/100\n",
      "81250/81250 - 44s - 541us/step - loss: 0.0025\n",
      "Epoch 30/100\n",
      "81250/81250 - 44s - 538us/step - loss: 0.0025\n",
      "Epoch 31/100\n",
      "81250/81250 - 44s - 542us/step - loss: 0.0025\n",
      "Epoch 32/100\n",
      "81250/81250 - 44s - 543us/step - loss: 0.0025\n",
      "Epoch 33/100\n",
      "81250/81250 - 45s - 548us/step - loss: 0.0025\n",
      "Epoch 34/100\n",
      "81250/81250 - 44s - 539us/step - loss: 0.0025\n",
      "Epoch 35/100\n",
      "81250/81250 - 44s - 539us/step - loss: 0.0025\n",
      "Epoch 36/100\n",
      "81250/81250 - 44s - 538us/step - loss: 0.0025\n",
      "Epoch 37/100\n",
      "81250/81250 - 44s - 538us/step - loss: 0.0025\n",
      "Epoch 38/100\n",
      "81250/81250 - 44s - 546us/step - loss: 0.0025\n",
      "Epoch 39/100\n",
      "81250/81250 - 45s - 549us/step - loss: 0.0025\n",
      "Epoch 40/100\n",
      "81250/81250 - 44s - 539us/step - loss: 0.0025\n",
      "Epoch 41/100\n",
      "81250/81250 - 44s - 537us/step - loss: 0.0025\n",
      "Epoch 42/100\n",
      "81250/81250 - 44s - 537us/step - loss: 0.0025\n",
      "Epoch 43/100\n",
      "81250/81250 - 44s - 545us/step - loss: 0.0025\n",
      "Epoch 44/100\n",
      "81250/81250 - 44s - 537us/step - loss: 0.0025\n",
      "Epoch 45/100\n",
      "81250/81250 - 44s - 541us/step - loss: 0.0025\n",
      "Epoch 46/100\n",
      "81250/81250 - 44s - 542us/step - loss: 0.0025\n",
      "Epoch 47/100\n",
      "81250/81250 - 44s - 539us/step - loss: 0.0025\n",
      "Epoch 48/100\n",
      "81250/81250 - 44s - 540us/step - loss: 0.0025\n",
      "Epoch 49/100\n",
      "81250/81250 - 44s - 539us/step - loss: 0.0025\n",
      "Epoch 50/100\n",
      "81250/81250 - 44s - 545us/step - loss: 0.0025\n",
      "Epoch 51/100\n",
      "81250/81250 - 44s - 538us/step - loss: 0.0025\n",
      "Epoch 52/100\n",
      "81250/81250 - 45s - 550us/step - loss: 0.0025\n",
      "Epoch 53/100\n",
      "81250/81250 - 44s - 545us/step - loss: 0.0025\n",
      "Epoch 54/100\n",
      "81250/81250 - 44s - 542us/step - loss: 0.0025\n",
      "Epoch 55/100\n",
      "81250/81250 - 45s - 549us/step - loss: 0.0025\n",
      "Epoch 56/100\n",
      "81250/81250 - 45s - 549us/step - loss: 0.0025\n",
      "Epoch 57/100\n",
      "81250/81250 - 44s - 540us/step - loss: 0.0025\n",
      "Epoch 58/100\n",
      "81250/81250 - 45s - 548us/step - loss: 0.0025\n",
      "Epoch 59/100\n",
      "81250/81250 - 44s - 538us/step - loss: 0.0025\n",
      "Epoch 60/100\n",
      "81250/81250 - 44s - 540us/step - loss: 0.0025\n",
      "Epoch 61/100\n",
      "81250/81250 - 44s - 544us/step - loss: 0.0025\n",
      "Epoch 62/100\n",
      "81250/81250 - 44s - 546us/step - loss: 0.0025\n",
      "Epoch 63/100\n",
      "81250/81250 - 44s - 539us/step - loss: 0.0025\n",
      "Epoch 64/100\n",
      "81250/81250 - 44s - 538us/step - loss: 0.0025\n",
      "Epoch 65/100\n",
      "81250/81250 - 44s - 537us/step - loss: 0.0025\n",
      "Epoch 66/100\n",
      "81250/81250 - 44s - 547us/step - loss: 0.0025\n",
      "Epoch 67/100\n",
      "81250/81250 - 45s - 548us/step - loss: 0.0025\n",
      "Epoch 68/100\n",
      "81250/81250 - 45s - 549us/step - loss: 0.0025\n",
      "Epoch 69/100\n",
      "81250/81250 - 44s - 544us/step - loss: 0.0025\n",
      "Epoch 70/100\n",
      "81250/81250 - 45s - 549us/step - loss: 0.0025\n",
      "Epoch 71/100\n",
      "81250/81250 - 44s - 547us/step - loss: 0.0025\n",
      "Epoch 72/100\n",
      "81250/81250 - 44s - 541us/step - loss: 0.0025\n",
      "Epoch 73/100\n",
      "81250/81250 - 44s - 543us/step - loss: 0.0025\n",
      "Epoch 74/100\n",
      "81250/81250 - 44s - 542us/step - loss: 0.0025\n",
      "Epoch 75/100\n",
      "81250/81250 - 44s - 537us/step - loss: 0.0025\n",
      "Epoch 76/100\n",
      "81250/81250 - 44s - 540us/step - loss: 0.0025\n",
      "Epoch 77/100\n",
      "81250/81250 - 44s - 543us/step - loss: 0.0025\n",
      "Epoch 78/100\n",
      "81250/81250 - 44s - 540us/step - loss: 0.0025\n",
      "Epoch 79/100\n",
      "81250/81250 - 44s - 538us/step - loss: 0.0025\n",
      "Epoch 80/100\n",
      "81250/81250 - 44s - 542us/step - loss: 0.0025\n",
      "Epoch 81/100\n",
      "81250/81250 - 44s - 538us/step - loss: 0.0025\n",
      "Epoch 82/100\n",
      "81250/81250 - 44s - 537us/step - loss: 0.0025\n",
      "Epoch 83/100\n",
      "81250/81250 - 45s - 549us/step - loss: 0.0025\n",
      "Epoch 84/100\n",
      "81250/81250 - 44s - 542us/step - loss: 0.0025\n",
      "Epoch 85/100\n",
      "81250/81250 - 44s - 537us/step - loss: 0.0025\n",
      "Epoch 86/100\n",
      "81250/81250 - 44s - 539us/step - loss: 0.0025\n",
      "Epoch 87/100\n",
      "81250/81250 - 44s - 545us/step - loss: 0.0025\n",
      "Epoch 88/100\n",
      "81250/81250 - 44s - 537us/step - loss: 0.0025\n",
      "Epoch 89/100\n",
      "81250/81250 - 44s - 539us/step - loss: 0.0025\n",
      "Epoch 90/100\n",
      "81250/81250 - 45s - 555us/step - loss: 0.0025\n",
      "Epoch 91/100\n",
      "81250/81250 - 44s - 538us/step - loss: 0.0025\n",
      "Epoch 92/100\n",
      "81250/81250 - 44s - 538us/step - loss: 0.0025\n",
      "Epoch 93/100\n",
      "81250/81250 - 44s - 539us/step - loss: 0.0025\n",
      "Epoch 94/100\n",
      "81250/81250 - 44s - 538us/step - loss: 0.0025\n",
      "Epoch 95/100\n",
      "81250/81250 - 44s - 537us/step - loss: 0.0025\n",
      "Epoch 96/100\n",
      "81250/81250 - 44s - 538us/step - loss: 0.0025\n",
      "Epoch 97/100\n",
      "81250/81250 - 44s - 541us/step - loss: 0.0025\n",
      "Epoch 98/100\n",
      "81250/81250 - 44s - 539us/step - loss: 0.0025\n",
      "Epoch 99/100\n",
      "81250/81250 - 44s - 540us/step - loss: 0.0025\n",
      "Epoch 100/100\n",
      "81250/81250 - 44s - 539us/step - loss: 0.0025\n"
     ]
    },
    {
     "data": {
      "text/plain": "<keras.src.callbacks.history.History at 0x147652e10>"
     },
     "execution_count": 31,
     "metadata": {},
     "output_type": "execute_result"
    }
   ],
   "source": [
    "# create and fit the LSTM network\n",
    "model = Sequential()\n",
    "model.add(LSTM(4, input_shape=(1, look_back)))\n",
    "model.add(Dense(1))\n",
    "model.compile(loss='mean_squared_error', optimizer='adam')\n",
    "model.fit(trainX, trainY, epochs=100, batch_size=1, verbose=2)"
   ],
   "metadata": {
    "collapsed": false,
    "ExecuteTime": {
     "end_time": "2024-05-06T18:49:46.777416Z",
     "start_time": "2024-05-06T17:34:50.546811Z"
    }
   }
  },
  {
   "cell_type": "code",
   "execution_count": 47,
   "outputs": [
    {
     "name": "stdout",
     "output_type": "stream",
     "text": [
      "\u001B[1m2540/2540\u001B[0m \u001B[32m━━━━━━━━━━━━━━━━━━━━\u001B[0m\u001B[37m\u001B[0m \u001B[1m2s\u001B[0m 561us/step\n",
      "\u001B[1m1251/1251\u001B[0m \u001B[32m━━━━━━━━━━━━━━━━━━━━\u001B[0m\u001B[37m\u001B[0m \u001B[1m1s\u001B[0m 494us/step\n",
      "[[0.88958156]\n",
      " [0.74992406]\n",
      " [0.6845586 ]\n",
      " ...\n",
      " [0.40091074]\n",
      " [0.482745  ]\n",
      " [0.62294036]]\n"
     ]
    },
    {
     "ename": "ValueError",
     "evalue": "non-broadcastable output operand with shape (81250,1) doesn't match the broadcast shape (81250,4)",
     "output_type": "error",
     "traceback": [
      "\u001B[0;31m---------------------------------------------------------------------------\u001B[0m",
      "\u001B[0;31mValueError\u001B[0m                                Traceback (most recent call last)",
      "Cell \u001B[0;32mIn[47], line 6\u001B[0m\n\u001B[1;32m      4\u001B[0m \u001B[38;5;66;03m# invert predictions\u001B[39;00m\n\u001B[1;32m      5\u001B[0m \u001B[38;5;28mprint\u001B[39m(trainPredict)\n\u001B[0;32m----> 6\u001B[0m trainPredict \u001B[38;5;241m=\u001B[39m \u001B[43mscaler\u001B[49m\u001B[38;5;241;43m.\u001B[39;49m\u001B[43minverse_transform\u001B[49m\u001B[43m(\u001B[49m\u001B[43mtrainPredict\u001B[49m\u001B[43m)\u001B[49m\n\u001B[1;32m      7\u001B[0m \u001B[38;5;28mprint\u001B[39m(trainPredict)\n\u001B[1;32m      8\u001B[0m trainY \u001B[38;5;241m=\u001B[39m scaler\u001B[38;5;241m.\u001B[39minverse_transform([trainY])\n",
      "File \u001B[0;32m~/Desktop/unisa/research/hourEnergyConsumption/venv/lib/python3.11/site-packages/sklearn/preprocessing/_data.py:572\u001B[0m, in \u001B[0;36mMinMaxScaler.inverse_transform\u001B[0;34m(self, X)\u001B[0m\n\u001B[1;32m    563\u001B[0m xp, _ \u001B[38;5;241m=\u001B[39m get_namespace(X)\n\u001B[1;32m    565\u001B[0m X \u001B[38;5;241m=\u001B[39m check_array(\n\u001B[1;32m    566\u001B[0m     X,\n\u001B[1;32m    567\u001B[0m     copy\u001B[38;5;241m=\u001B[39m\u001B[38;5;28mself\u001B[39m\u001B[38;5;241m.\u001B[39mcopy,\n\u001B[1;32m    568\u001B[0m     dtype\u001B[38;5;241m=\u001B[39m_array_api\u001B[38;5;241m.\u001B[39msupported_float_dtypes(xp),\n\u001B[1;32m    569\u001B[0m     force_all_finite\u001B[38;5;241m=\u001B[39m\u001B[38;5;124m\"\u001B[39m\u001B[38;5;124mallow-nan\u001B[39m\u001B[38;5;124m\"\u001B[39m,\n\u001B[1;32m    570\u001B[0m )\n\u001B[0;32m--> 572\u001B[0m \u001B[43mX\u001B[49m\u001B[43m \u001B[49m\u001B[38;5;241;43m-\u001B[39;49m\u001B[38;5;241;43m=\u001B[39;49m\u001B[43m \u001B[49m\u001B[38;5;28;43mself\u001B[39;49m\u001B[38;5;241;43m.\u001B[39;49m\u001B[43mmin_\u001B[49m\n\u001B[1;32m    573\u001B[0m X \u001B[38;5;241m/\u001B[39m\u001B[38;5;241m=\u001B[39m \u001B[38;5;28mself\u001B[39m\u001B[38;5;241m.\u001B[39mscale_\n\u001B[1;32m    574\u001B[0m \u001B[38;5;28;01mreturn\u001B[39;00m X\n",
      "\u001B[0;31mValueError\u001B[0m: non-broadcastable output operand with shape (81250,1) doesn't match the broadcast shape (81250,4)"
     ]
    }
   ],
   "source": [
    "# make predictions\n",
    "trainPredict = model.predict(trainX)\n",
    "testPredict = model.predict(testX)\n",
    "# invert predictions\n",
    "print(trainPredict)\n",
    "trainPredict = scaler.inverse_transform(trainPredict)\n",
    "print(trainPredict)\n",
    "trainY = scaler.inverse_transform([trainY])\n",
    "testPredict = scaler.inverse_transform(testPredict)\n",
    "testY = scaler.inverse_transform([testY])\n",
    "# calculate root mean squared error\n",
    "trainScore = np.sqrt(mean_squared_error(trainY[0], trainPredict[:,0]))\n",
    "print('Train Score: %.2f RMSE' % (trainScore))\n",
    "testScore = np.sqrt(mean_squared_error(testY[0], testPredict[:,0]))\n",
    "print('Test Score: %.2f RMSE' % (testScore))"
   ],
   "metadata": {
    "collapsed": false,
    "ExecuteTime": {
     "end_time": "2024-05-07T06:13:58.978888Z",
     "start_time": "2024-05-07T06:13:55.002292Z"
    }
   }
  },
  {
   "cell_type": "code",
   "execution_count": 34,
   "outputs": [],
   "source": [
    "model.save('my_model.keras')  # creates a HDF5 file 'my_model.h5'"
   ],
   "metadata": {
    "collapsed": false,
    "ExecuteTime": {
     "end_time": "2024-05-06T20:45:48.362346Z",
     "start_time": "2024-05-06T20:45:48.294504Z"
    }
   }
  },
  {
   "cell_type": "code",
   "execution_count": null,
   "outputs": [],
   "source": [],
   "metadata": {
    "collapsed": false
   }
  }
 ],
 "metadata": {
  "kernelspec": {
   "display_name": "Python 3",
   "language": "python",
   "name": "python3"
  },
  "language_info": {
   "codemirror_mode": {
    "name": "ipython",
    "version": 2
   },
   "file_extension": ".py",
   "mimetype": "text/x-python",
   "name": "python",
   "nbconvert_exporter": "python",
   "pygments_lexer": "ipython2",
   "version": "2.7.6"
  }
 },
 "nbformat": 4,
 "nbformat_minor": 0
}
